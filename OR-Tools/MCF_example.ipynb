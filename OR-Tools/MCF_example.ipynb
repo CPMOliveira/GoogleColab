{
  "nbformat": 4,
  "nbformat_minor": 0,
  "metadata": {
    "colab": {
      "name": "MCF-example.ipynb",
      "provenance": [],
      "collapsed_sections": [],
      "mount_file_id": "1ErMnytRkwqjVUsa0_kcU99h9rDQmY8-H",
      "authorship_tag": "ABX9TyNhHkKl7FrUOXajQSIbI5t0",
      "include_colab_link": true
    },
    "kernelspec": {
      "name": "python3",
      "display_name": "Python 3"
    }
  },
  "cells": [
    {
      "cell_type": "markdown",
      "metadata": {
        "id": "view-in-github",
        "colab_type": "text"
      },
      "source": [
        "<a href=\"https://colab.research.google.com/github/CPMOliveira/GoogleColab/blob/main/OR-Tools/MCF_example.ipynb\" target=\"_parent\"><img src=\"https://colab.research.google.com/assets/colab-badge.svg\" alt=\"Open In Colab\"/></a>"
      ]
    },
    {
      "cell_type": "markdown",
      "metadata": {
        "id": "62-YqF3vrDdd"
      },
      "source": [
        "Instalar o OR-Tools"
      ]
    },
    {
      "cell_type": "code",
      "metadata": {
        "id": "ALHTsY8pqFtY",
        "colab": {
          "base_uri": "https://localhost:8080/",
          "height": 87
        },
        "outputId": "46ef8ea9-e8a7-433f-9b5b-5139d7825b5b"
      },
      "source": [
        "!pip install ortools"
      ],
      "execution_count": null,
      "outputs": [
        {
          "output_type": "stream",
          "text": [
            "Requirement already satisfied: ortools in /usr/local/lib/python3.6/dist-packages (7.6.7691)\n",
            "Requirement already satisfied: protobuf>=3.11.2 in /usr/local/lib/python3.6/dist-packages (from ortools) (3.12.2)\n",
            "Requirement already satisfied: six>=1.10 in /usr/local/lib/python3.6/dist-packages (from ortools) (1.12.0)\n",
            "Requirement already satisfied: setuptools in /usr/local/lib/python3.6/dist-packages (from protobuf>=3.11.2->ortools) (47.1.1)\n"
          ],
          "name": "stdout"
        }
      ]
    },
    {
      "cell_type": "markdown",
      "metadata": {
        "id": "JQOxW-Doruwu"
      },
      "source": [
        "Exemplo: https://developers.google.com/optimization/flow/mincostflow"
      ]
    },
    {
      "cell_type": "code",
      "metadata": {
        "id": "MGDIG1jNrJEd",
        "colab": {
          "base_uri": "https://localhost:8080/",
          "height": 221
        },
        "outputId": "3a189b0d-c67e-46de-e146-dd6cd716319b"
      },
      "source": [
        "from __future__ import print_function\n",
        "from ortools.graph import pywrapgraph\n",
        "\n",
        "def main():\n",
        "  \"\"\"MinCostFlow simple interface example.\"\"\"\n",
        "\n",
        "  # Define four parallel arrays: start_nodes, end_nodes, capacities, and unit costs\n",
        "  # between each pair. For instance, the arc from node 0 to node 1 has a\n",
        "  # capacity of 15 and a unit cost of 4.\n",
        "\n",
        "  start_nodes = [ 0, 0,  1, 1,  1,  2, 2,  3, 4]\n",
        "  end_nodes   = [ 1, 2,  2, 3,  4,  3, 4,  4, 2]\n",
        "  capacities  = [15, 8, 20, 4, 10, 15, 4, 20, 5]\n",
        "  unit_costs  = [ 4, 4,  2, 2,  6,  1, 3,  2, 3]\n",
        "\n",
        "  # Define an array of supplies at each node.\n",
        "\n",
        "  supplies = [20, 0, 0, -5, -15]\n",
        "\n",
        "  # Instantiate a SimpleMinCostFlow solver.\n",
        "  min_cost_flow = pywrapgraph.SimpleMinCostFlow()\n",
        "\n",
        "  # Add each arc.\n",
        "  for i in range(0, len(start_nodes)):\n",
        "    min_cost_flow.AddArcWithCapacityAndUnitCost(start_nodes[i], end_nodes[i],\n",
        "                                                capacities[i], unit_costs[i])\n",
        "\n",
        "  # Add node supplies.\n",
        "\n",
        "  for i in range(0, len(supplies)):\n",
        "    min_cost_flow.SetNodeSupply(i, supplies[i])\n",
        "\n",
        "  # Find the minimum cost flow between node 0 and node 4.\n",
        "  if min_cost_flow.Solve() == min_cost_flow.OPTIMAL:\n",
        "    print('Minimum cost:', min_cost_flow.OptimalCost())\n",
        "    print('')\n",
        "    print('  Arc    Flow / Capacity  Cost')\n",
        "    for i in range(min_cost_flow.NumArcs()):\n",
        "      cost = min_cost_flow.Flow(i) * min_cost_flow.UnitCost(i)\n",
        "      print('%1s -> %1s   %3s  / %3s       %3s' % (\n",
        "          min_cost_flow.Tail(i),\n",
        "          min_cost_flow.Head(i),\n",
        "          min_cost_flow.Flow(i),\n",
        "          min_cost_flow.Capacity(i),\n",
        "          cost))\n",
        "  else:\n",
        "    print('There was an issue with the min cost flow input.')\n",
        "\n",
        "if __name__ == '__main__':\n",
        "  main()"
      ],
      "execution_count": null,
      "outputs": [
        {
          "output_type": "stream",
          "text": [
            "Minimum cost: 150\n",
            "\n",
            "  Arc    Flow / Capacity  Cost\n",
            "0 -> 1    12  /  15        48\n",
            "0 -> 2     8  /   8        32\n",
            "1 -> 2     8  /  20        16\n",
            "1 -> 3     4  /   4         8\n",
            "1 -> 4     0  /  10         0\n",
            "2 -> 3    12  /  15        12\n",
            "2 -> 4     4  /   4        12\n",
            "3 -> 4    11  /  20        22\n",
            "4 -> 2     0  /   5         0\n"
          ],
          "name": "stdout"
        }
      ]
    }
  ]
}
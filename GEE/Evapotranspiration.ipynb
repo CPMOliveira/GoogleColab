{
  "nbformat": 4,
  "nbformat_minor": 0,
  "metadata": {
    "colab": {
      "name": "Untitled0.ipynb",
      "private_outputs": true,
      "provenance": [],
      "authorship_tag": "ABX9TyPKfNQGXnGwYPwIpRSWRGBV",
      "include_colab_link": true
    },
    "kernelspec": {
      "name": "python3",
      "display_name": "Python 3"
    },
    "language_info": {
      "name": "python"
    }
  },
  "cells": [
    {
      "cell_type": "markdown",
      "metadata": {
        "id": "view-in-github",
        "colab_type": "text"
      },
      "source": [
        "<a href=\"https://colab.research.google.com/github/CPMOliveira/GoogleColab/blob/main/GEE/Evapotranspiration.ipynb\" target=\"_parent\"><img src=\"https://colab.research.google.com/assets/colab-badge.svg\" alt=\"Open In Colab\"/></a>"
      ]
    },
    {
      "cell_type": "markdown",
      "metadata": {
        "id": "HLIo99QNBHZB"
      },
      "source": [
        "## 1. Instalação\n",
        "\n",
        "Instalação dos pacotes:\n",
        "* Google Earth Engine\n",
        "* Folium\n",
        "\n"
      ]
    },
    {
      "cell_type": "code",
      "metadata": {
        "id": "lYWqQXzQBE0A"
      },
      "source": [
        "!pip install earthengine-api\n",
        "!pip install folium"
      ],
      "execution_count": null,
      "outputs": []
    },
    {
      "cell_type": "markdown",
      "metadata": {
        "id": "szcZYOtQ7X0t"
      },
      "source": [
        "## 1. Inicialização\n",
        "\n",
        "Importação do pacote Python API do Google Earth Engine.\n",
        "Autenticação nos servidores do Earth Engine.\n",
        "Inicialização da API nesta sessão."
      ]
    },
    {
      "cell_type": "code",
      "metadata": {
        "id": "xC18PU0H0WlN"
      },
      "source": [
        "import ee\n",
        "ee.Authenticate()\n",
        "ee.Initialize()"
      ],
      "execution_count": null,
      "outputs": []
    },
    {
      "cell_type": "markdown",
      "metadata": {
        "id": "fpTga9jiAt2W"
      },
      "source": [
        ""
      ]
    },
    {
      "cell_type": "code",
      "metadata": {
        "id": "kK97Qwf88jIr"
      },
      "source": [
        ""
      ],
      "execution_count": null,
      "outputs": []
    }
  ]
}
{
  "nbformat": 4,
  "nbformat_minor": 0,
  "metadata": {
    "colab": {
      "name": "Untitled0.ipynb",
      "private_outputs": true,
      "provenance": [],
      "authorship_tag": "ABX9TyPZUguzegjpweWKjk8gIEAo",
      "include_colab_link": true
    },
    "kernelspec": {
      "name": "python3",
      "display_name": "Python 3"
    },
    "language_info": {
      "name": "python"
    }
  },
  "cells": [
    {
      "cell_type": "markdown",
      "metadata": {
        "id": "view-in-github",
        "colab_type": "text"
      },
      "source": [
        "<a href=\"https://colab.research.google.com/github/CPMOliveira/GoogleColab/blob/main/GEE/Evapotranspiration.ipynb\" target=\"_parent\"><img src=\"https://colab.research.google.com/assets/colab-badge.svg\" alt=\"Open In Colab\"/></a>"
      ]
    },
    {
      "cell_type": "markdown",
      "metadata": {
        "id": "HLIo99QNBHZB"
      },
      "source": [
        "## 1. Instalação\n",
        "\n",
        "Instalação dos pacotes:\n",
        "* Google Earth Engine\n",
        "* Folium\n",
        "\n"
      ]
    },
    {
      "cell_type": "code",
      "metadata": {
        "id": "lYWqQXzQBE0A"
      },
      "source": [
        "!pip install earthengine-api\n",
        "!pip install folium"
      ],
      "execution_count": null,
      "outputs": []
    },
    {
      "cell_type": "markdown",
      "metadata": {
        "id": "szcZYOtQ7X0t"
      },
      "source": [
        "## 2. Inicialização\n",
        "\n",
        "Importação do pacote Python API do Google Earth Engine.<br>\n",
        "Autenticação nos servidores do Earth Engine.<br>\n",
        "Inicialização da API nesta sessão."
      ]
    },
    {
      "cell_type": "code",
      "metadata": {
        "id": "xC18PU0H0WlN"
      },
      "source": [
        "import ee\n",
        "ee.Authenticate()\n",
        "ee.Initialize()"
      ],
      "execution_count": null,
      "outputs": []
    },
    {
      "cell_type": "markdown",
      "metadata": {
        "id": "fpTga9jiAt2W"
      },
      "source": [
        "## 3. Importação de Pacotes"
      ]
    },
    {
      "cell_type": "code",
      "metadata": {
        "id": "kK97Qwf88jIr"
      },
      "source": [
        "import folium"
      ],
      "execution_count": null,
      "outputs": []
    },
    {
      "cell_type": "markdown",
      "metadata": {
        "id": "uQZT1kyGCvQR"
      },
      "source": [
        "## 4."
      ]
    },
    {
      "cell_type": "code",
      "metadata": {
        "id": "hZ8SAaAiCrPe"
      },
      "source": [
        "Peru = ee.Image(\"USGS/SRTMGL1_003\")\\\n",
        "         .clip(ee.Geometry.Rectangle(-85, -20, -65,0))\n",
        "\n",
        "# Define the URL format used for Earth Engine generated map tiles.\n",
        "EE_TILES = 'https://earthengine.googleapis.com/map/{mapid}/{{z}}/{{x}}/{{y}}?token={token}'\n",
        "\n",
        "# Use folium to visualize the imagery.\n",
        "mapid = Peru.getMapId({'pallete': ['black', 'white'], 'min': 0, 'max': 3000})\n",
        "\n",
        "map = folium.Map(location=[-10, -75],zoom_start=5)\n",
        "folium.TileLayer(\n",
        "    tiles=EE_TILES.format(**mapid),\n",
        "    attr='Google Earth Engine',\n",
        "    overlay=True,\n",
        "    name='median composite',\n",
        "  ).add_to(map)\n",
        "map.add_child(folium.LayerControl())\n",
        "map"
      ],
      "execution_count": null,
      "outputs": []
    },
    {
      "cell_type": "code",
      "metadata": {
        "id": "_U56pzM0DJGx"
      },
      "source": [
        "def add_ee_layer(self, ee_image_object, vis_params, name):\n",
        "  map_id_dict = ee.Image(ee_image_object).getMapId(vis_params)\n",
        "  folium.raster_layers.TileLayer(\n",
        "      tiles=map_id_dict['tile_fetcher'].url_format,\n",
        "      attr='Map Data &copy; <a href=\"https://earthengine.google.com/\">Google Earth Engine</a>',\n",
        "      name=name,\n",
        "      overlay=True,\n",
        "      control=True\n",
        "  ).add_to(self)\n",
        "\n",
        "folium.Map.add_ee_layer = add_ee_layer"
      ],
      "execution_count": null,
      "outputs": []
    }
  ]
}